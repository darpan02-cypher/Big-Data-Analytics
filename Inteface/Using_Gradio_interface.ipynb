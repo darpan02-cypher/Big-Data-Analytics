{
  "nbformat": 4,
  "nbformat_minor": 0,
  "metadata": {
    "colab": {
      "provenance": [],
      "authorship_tag": "ABX9TyNQUsbOYHqF1lTN1S8ptllm",
      "include_colab_link": true
    },
    "kernelspec": {
      "name": "python3",
      "display_name": "Python 3"
    },
    "language_info": {
      "name": "python"
    }
  },
  "cells": [
    {
      "cell_type": "markdown",
      "metadata": {
        "id": "view-in-github",
        "colab_type": "text"
      },
      "source": [
        "<a href=\"https://colab.research.google.com/github/darpan02-cypher/Big-Data-Analytics/blob/main/Inteface/Using_Gradio_interface.ipynb\" target=\"_parent\"><img src=\"https://colab.research.google.com/assets/colab-badge.svg\" alt=\"Open In Colab\"/></a>"
      ]
    },
    {
      "cell_type": "code",
      "execution_count": 5,
      "metadata": {
        "colab": {
          "base_uri": "https://localhost:8080/"
        },
        "id": "BqLY21LNd1ae",
        "outputId": "fd68876b-e7df-4834-da84-b2ae68f1e40d"
      },
      "outputs": [
        {
          "output_type": "stream",
          "name": "stdout",
          "text": [
            "Requirement already satisfied: python-dotenv in /usr/local/lib/python3.11/dist-packages (1.1.0)\n"
          ]
        }
      ],
      "source": [
        "# prompt: install dotenv and import load_dotenv\n",
        "\n",
        "!pip install python-dotenv\n",
        "\n",
        "from dotenv import load_dotenv\n",
        "import os\n",
        "\n",
        "load_dotenv()\n",
        "# Access environment variables\n",
        "api_key = os.getenv(\"API_KEY\")\n",
        "api_key\n"
      ]
    },
    {
      "cell_type": "code",
      "source": [
        "import os\n",
        "#from dotenv import load_dotenv\n",
        "from groq import Groq\n",
        "import gradio as gr\n",
        "import os\n",
        "\n",
        "\n",
        "# Load environment variables\n",
        "load_dotenv()\n",
        "\n",
        "import os\n",
        "os.environ[\"GROQ_API_KEY\"] = \"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\"\n",
        "\n",
        "def generate_response(prompt: str) -> str:\n",
        "    if not prompt.strip():\n",
        "        return \"Please enter a prompt.\"\n",
        "    resp = client.chat.completions.create(\n",
        "        model=\"llama3-8b-8192\",\n",
        "        messages=[{\"role\": \"user\", \"content\": prompt}],\n",
        "    )\n",
        "    return resp.choices[0].message.content\n",
        "\n",
        "with gr.Blocks() as demo:\n",
        "    gr.Markdown(\"# Groq Prompt → Response Interface\")\n",
        "    prompt_input = gr.Textbox(label=\"Your Prompt\", lines=4, placeholder=\"Type anything here…\")\n",
        "    submit_btn = gr.Button(\"Submit\")\n",
        "    output_box = gr.Textbox(label=\"Groq Response\", lines=8, interactive=False)\n",
        "    clear_btn = gr.Button(\"Clear\")\n",
        "\n",
        "    submit_btn.click(generate_response, inputs=prompt_input, outputs=output_box)\n",
        "    clear_btn.click(lambda: (\"\", \"\"), None, [prompt_input, output_box])\n",
        "\n",
        "demo.launch()\n"
      ],
      "metadata": {
        "colab": {
          "base_uri": "https://localhost:8080/",
          "height": 645
        },
        "id": "z3BdmbgVeCXF",
        "outputId": "f71923d3-3afd-41d5-c58a-37f014cc34d4"
      },
      "execution_count": 11,
      "outputs": [
        {
          "output_type": "stream",
          "name": "stdout",
          "text": [
            "Running Gradio in a Colab notebook requires sharing enabled. Automatically setting `share=True` (you can turn this off by setting `share=False` in `launch()` explicitly).\n",
            "\n",
            "Colab notebook detected. To show errors in colab notebook, set debug=True in launch()\n",
            "* Running on public URL: https://7c640912743e4e76ad.gradio.live\n",
            "\n",
            "This share link expires in 72 hours. For free permanent hosting and GPU upgrades, run `gradio deploy` from the terminal in the working directory to deploy to Hugging Face Spaces (https://huggingface.co/spaces)\n"
          ]
        },
        {
          "output_type": "display_data",
          "data": {
            "text/plain": [
              "<IPython.core.display.HTML object>"
            ],
            "text/html": [
              "<div><iframe src=\"https://7c640912743e4e76ad.gradio.live\" width=\"100%\" height=\"500\" allow=\"autoplay; camera; microphone; clipboard-read; clipboard-write;\" frameborder=\"0\" allowfullscreen></iframe></div>"
            ]
          },
          "metadata": {}
        },
        {
          "output_type": "execute_result",
          "data": {
            "text/plain": []
          },
          "metadata": {},
          "execution_count": 11
        }
      ]
    }
  ]
}