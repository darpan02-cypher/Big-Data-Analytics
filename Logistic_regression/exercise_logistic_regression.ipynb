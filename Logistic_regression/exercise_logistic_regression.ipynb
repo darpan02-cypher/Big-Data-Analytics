{
  "cells": [
    {
      "cell_type": "markdown",
      "metadata": {
        "id": "view-in-github",
        "colab_type": "text"
      },
      "source": [
        "<a href=\"https://colab.research.google.com/github/darpan02-cypher/Big-Data-Analytics/blob/main/Logistic_regression/exercise_logistic_regression.ipynb\" target=\"_parent\"><img src=\"https://colab.research.google.com/assets/colab-badge.svg\" alt=\"Open In Colab\"/></a>"
      ]
    },
    {
      "cell_type": "markdown",
      "source": [
        "This code is about using Logistic Regression to classify handwritten digits (specifically the numbers 3 and 8) from the scikit-learn digits dataset.\n",
        "\n",
        "Here's a breakdown of the steps:\n",
        "\n",
        "Data Loading and Preparation:\n",
        "\n",
        "Loads the digits dataset.\n",
        "Selects only the images of the digits 3 and 8.\n",
        "Splits the data into training and testing sets.\n",
        "Scales the data to have zero mean and unit variance.\n",
        "\n",
        "Data Exploration:\n",
        "\n",
        "Visualizes some sample images to understand the data.\n",
        "\n",
        "Logistic Regression with L2 Regularization:\n",
        "\n",
        "Trains a Logistic Regression model with L2 regularization (Ridge Regression) using cross-validation to find the best hyperparameters.\n",
        "Evaluates the model's accuracy on the testing set.\n",
        "Visualizes the learned coefficients as a heatmap.\n",
        "\n",
        "Logistic Regression with L1 Regularization:\n",
        "\n",
        "Trains a Logistic Regression model with L1 regularization (Lasso Regression) using cross-validation to find the best hyperparameters.\n",
        "Evaluates the model's accuracy on the testing set.\n",
        "Visualizes the learned coefficients as a heatmap.\n",
        "\n",
        "Prediction and Comparison:\n",
        "\n",
        "Predicts the class probabilities for the testing set using the L1 model.\n",
        "Compares the predicted probabilities with the actual labels.\n",
        "\n",
        "Conclusion:\n",
        "\n",
        "Briefly explains the difference between L1 and L2 regularization, highlighting their strengths and the solvers used for each.\n",
        "\n",
        "In essence, the code demonstrates how to build and evaluate Logistic Regression models with different regularization techniques for image classification. It focuses on using Python libraries like scikit-learn for data loading, preprocessing, model training, and evaluation."
      ],
      "metadata": {
        "id": "xAzAHXCG_Q4X"
      }
    },
    {
      "cell_type": "code",
      "execution_count": null,
      "metadata": {
        "id": "WDkX7x8l3FAI"
      },
      "outputs": [],
      "source": [
        "# adaptation after\n",
        "# http://scikit-learn.org/stable/auto_examples/manifold/plot_lle_digits.html\n",
        "# import libraries\n",
        "import numpy as np\n",
        "import matplotlib.pyplot as plt\n",
        "from sklearn import datasets\n",
        "from sklearn import preprocessing\n",
        "from sklearn.model_selection import train_test_split\n",
        "from sklearn.linear_model import LogisticRegressionCV\n",
        "\n",
        "%matplotlib inline\n",
        "plt.rcParams['figure.figsize'] = (5.0, 4.0)"
      ]
    },
    {
      "cell_type": "code",
      "execution_count": null,
      "metadata": {
        "colab": {
          "base_uri": "https://localhost:8080/"
        },
        "id": "mJAXKt4E3FAM",
        "outputId": "98beb4a8-95d9-4c0e-8555-b2659067887e"
      },
      "outputs": [
        {
          "output_type": "stream",
          "name": "stdout",
          "text": [
            "No. samples =  357\n",
            "No. features =  64\n"
          ]
        }
      ],
      "source": [
        "# load the dataset\n",
        "digits = datasets.load_digits()\n",
        "X_raw_all = digits.data\n",
        "y_raw_all = digits.target\n",
        "\n",
        "# select only 3s and 8s\n",
        "ind = (y_raw_all == 3) | (y_raw_all == 8)\n",
        "X_raw = X_raw_all[ind,:]\n",
        "y_raw = y_raw_all[ind]\n",
        "n_samples, n_features = X_raw.shape\n",
        "\n",
        "print('No. samples = ', n_samples)\n",
        "print('No. features = ', n_features)"
      ]
    },
    {
      "cell_type": "markdown",
      "metadata": {
        "id": "b7WftI083FAN"
      },
      "source": [
        "## Some Data Exploration"
      ]
    },
    {
      "cell_type": "code",
      "execution_count": null,
      "metadata": {
        "colab": {
          "base_uri": "https://localhost:8080/",
          "height": 507
        },
        "id": "3BN6FmgR3FAO",
        "outputId": "028c1273-98dc-4b47-b76e-48135bee52c0"
      },
      "outputs": [
        {
          "output_type": "stream",
          "name": "stdout",
          "text": [
            "[[ 0.  1. 10. 15. 11.  1.  0.  0.]\n",
            " [ 0.  3.  8.  8. 11. 12.  0.  0.]\n",
            " [ 0.  0.  0.  5. 14. 15.  1.  0.]\n",
            " [ 0.  0.  0. 11. 15.  2.  0.  0.]\n",
            " [ 0.  0.  0.  4. 15.  2.  0.  0.]\n",
            " [ 0.  0.  0.  0. 12. 10.  0.  0.]\n",
            " [ 0.  0.  3.  4. 10. 16.  1.  0.]\n",
            " [ 0.  0. 13. 16. 15. 10.  0.  0.]]\n"
          ]
        },
        {
          "output_type": "display_data",
          "data": {
            "text/plain": [
              "<Figure size 500x400 with 1 Axes>"
            ],
            "image/png": "[encoded data removed]"
          },
          "metadata": {}
        }
      ],
      "source": [
        "# plot a single sample\n",
        "show_sample_no = 10\n",
        "plt.figure()\n",
        "plt.imshow(X_raw[show_sample_no,:].reshape((8, 8)), cmap=plt.cm.binary, interpolation='none')\n",
        "print(X_raw[show_sample_no,:].reshape((8, 8)))"
      ]
    },
    {
      "cell_type": "code",
      "execution_count": null,
      "metadata": {
        "colab": {
          "base_uri": "https://localhost:8080/",
          "height": 692
        },
        "id": "q4R9bSvr3FAO",
        "outputId": "7520e998-4b74-4988-e4ac-a0d29cb657b4"
      },
      "outputs": [
        {
          "output_type": "execute_result",
          "data": {
            "text/plain": [
              "Text(0.5, 1.0, 'A selection from the 64-dimensional digits dataset')"
            ]
          },
          "metadata": {},
          "execution_count": 4
        },
        {
          "output_type": "display_data",
          "data": {
            "text/plain": [
              "<Figure size 1000x800 with 1 Axes>"
            ],
            "image/png": "[encoded data removed]"
          },
          "metadata": {}
        }
      ],
      "source": [
        "# Plot images of the digits\n",
        "n_img_per_row = 10\n",
        "img = np.zeros((10 * n_img_per_row, 10 * n_img_per_row))\n",
        "for i in range(n_img_per_row):\n",
        "    ix = 10 * i + 1\n",
        "    for j in range(n_img_per_row):\n",
        "        iy = 10 * j + 1\n",
        "        img[ix:ix + 8, iy:iy + 8] = X_raw[i * n_img_per_row + j].reshape((8, 8))\n",
        "\n",
        "plt.rcParams['figure.figsize'] = (10.0, 8.0)\n",
        "plt.figure()\n",
        "plt.imshow(img, cmap=plt.cm.binary)\n",
        "plt.xticks([])\n",
        "plt.yticks([])\n",
        "plt.title('A selection from the 64-dimensional digits dataset')"
      ]
    },
    {
      "cell_type": "code",
      "execution_count": null,
      "metadata": {
        "id": "guLD_3x83FAO"
      },
      "outputs": [],
      "source": [
        "# TODO: split the data randomly in 67% training and 33% testing\n",
        "X_train, X_test, y_train, y_test = train_test_split(X_raw, y_raw, test_size=0.33, random_state=0)"
      ]
    },
    {
      "cell_type": "code",
      "execution_count": null,
      "metadata": {
        "id": "Ksugp0213FAP"
      },
      "outputs": [],
      "source": [
        "# TODO: scale the data -> zero mean and unit variance\n",
        "\n",
        "# scale train dataset\n",
        "scaler = preprocessing.StandardScaler()\n",
        "scaler.fit(X_train)\n",
        "X_train_scaled = scaler.transform(X_train)\n",
        "\n",
        "# scale test dataset\n",
        "X_test_scaled = scaler.transform(X_test)"
      ]
    },
    {
      "cell_type": "markdown",
      "metadata": {
        "id": "HltrUvFg3FAP"
      },
      "source": [
        "## Logistic Regression -\n",
        "\n",
        "#Using  L2 with 10-fold cross-validation\n",
        "\n",
        "> Add blockquote\n",
        "\n"
      ]
    },
    {
      "cell_type": "code",
      "execution_count": null,
      "metadata": {
        "colab": {
          "base_uri": "https://localhost:8080/"
        },
        "collapsed": true,
        "id": "aO6XXZfF3FAP",
        "outputId": "bf253228-bc0c-4f75-e35b-26dea7f26c31"
      },
      "outputs": [
        {
          "output_type": "stream",
          "name": "stderr",
          "text": [
            "/usr/local/lib/python3.11/dist-packages/sklearn/linear_model/_logistic.py:1898: FutureWarning: 'multi_class' was deprecated in version 1.5 and will be removed in 1.7. From then on, binary problems will be fit as proper binary  logistic regression models (as if multi_class='ovr' were set). Leave it to its default value to avoid this warning.\n",
            "  warnings.warn(\n"
          ]
        },
        {
          "output_type": "stream",
          "name": "stdout",
          "text": [
            "1/alpha =  [0.00497702]\n",
            "coef =  [[ 0.         -0.03976897 -0.039209   -0.05514765 -0.05894793 -0.02378776\n",
            "  -0.02518056 -0.01995794  0.00937302 -0.03914628  0.00624818  0.02664363\n",
            "  -0.03516873  0.00898883 -0.00329496 -0.0140524   0.00914875  0.02643377\n",
            "   0.11678501  0.07151073 -0.05280373  0.04189181  0.03001063  0.\n",
            "   0.          0.02289788  0.10527637  0.0821858  -0.00806074  0.03602783\n",
            "   0.03017133  0.          0.          0.01653091  0.07398096  0.0936001\n",
            "   0.03146811 -0.0530914  -0.05633673  0.          0.          0.02235529\n",
            "   0.1187212   0.10815731  0.03209338 -0.03139458 -0.0603833   0.\n",
            "   0.         -0.00195831  0.06485866  0.04240132 -0.02522562 -0.03716709\n",
            "  -0.04975328 -0.01842509  0.         -0.02650104 -0.05473969 -0.03985713\n",
            "  -0.00987132 -0.0214661  -0.01224059 -0.01140603]]\n",
            "accuracy =  0.9830508474576272\n"
          ]
        },
        {
          "output_type": "execute_result",
          "data": {
            "text/plain": [
              "<matplotlib.image.AxesImage at 0x7d36e33a0590>"
            ]
          },
          "metadata": {},
          "execution_count": 7
        },
        {
          "output_type": "display_data",
          "data": {
            "text/plain": [
              "<Figure size 1000x800 with 1 Axes>"
            ],
            "image/png": "[encoded data removed]"
          },
          "metadata": {}
        }
      ],
      "source": [
        "# train logistic regression & cross validation\n",
        "clf_L2 = LogisticRegressionCV(Cs=100, cv=10, penalty='l2', random_state=0, multi_class='multinomial', solver='lbfgs', n_jobs=-1)\n",
        "clf_L2.fit(X_train_scaled, y_train)\n",
        "print('1/alpha = ', clf_L2.C_)\n",
        "print('coef = ', clf_L2.coef_)\n",
        "print('accuracy = ', clf_L2.score(X_test_scaled,y_test))\n",
        "\n",
        "# Heatmap coefficients\n",
        "img_coef = clf_L2.coef_.reshape((8,8))\n",
        "plt.figure()\n",
        "tmp_max = np.max(np.abs([np.min(clf_L2.coef_), np.max(clf_L2.coef_)]))\n",
        "plt.imshow(img_coef, cmap=plt.cm.RdYlGn,  vmin=-tmp_max, vmax=tmp_max, interpolation='none')"
      ]
    },
    {
      "cell_type": "markdown",
      "source": [
        "#using L1 penalty"
      ],
      "metadata": {
        "id": "Dx6WUT6W3rxB"
      }
    },
    {
      "cell_type": "code",
      "source": [
        "# train logistic regression & cross validation\n",
        "clf_L1 = LogisticRegressionCV(Cs=100, cv=10, penalty='l1', random_state=0, multi_class='multinomial', solver='saga', n_jobs=-1) # Changed penalty to 'l1' and solver to 'saga'\n",
        "clf_L1.fit(X_train_scaled, y_train)\n",
        "print('1/alpha = ', clf_L1.C_)\n",
        "print('coef = ', clf_L1.coef_)\n",
        "print('accuracy = ', clf_L1.score(X_test_scaled,y_test))\n",
        "\n",
        "# Heatmap coefficients\n",
        "img_coef = clf_L1.coef_.reshape((8,8))\n",
        "plt.figure()\n",
        "tmp_max = np.max(np.abs([np.min(clf_L1.coef_), np.max(clf_L1.coef_)]))\n",
        "plt.imshow(img_coef, cmap=plt.cm.RdYlGn,  vmin=-tmp_max, vmax=tmp_max, interpolation='none')\n",
        "plt.show() # Added to display the plot"
      ],
      "metadata": {
        "colab": {
          "base_uri": "https://localhost:8080/",
          "height": 1000
        },
        "id": "RnuIn0qn3u2U",
        "outputId": "0cc70dd5-be56-409b-a30c-6a0cec1934d7"
      },
      "execution_count": null,
      "outputs": [
        {
          "output_type": "stream",
          "name": "stderr",
          "text": [
            "/usr/local/lib/python3.11/dist-packages/sklearn/linear_model/_logistic.py:1898: FutureWarning: 'multi_class' was deprecated in version 1.5 and will be removed in 1.7. From then on, binary problems will be fit as proper binary  logistic regression models (as if multi_class='ovr' were set). Leave it to its default value to avoid this warning.\n",
            "  warnings.warn(\n",
            "/usr/local/lib/python3.11/dist-packages/sklearn/linear_model/_sag.py:348: ConvergenceWarning: The max_iter was reached which means the coef_ did not converge\n",
            "  warnings.warn(\n",
            "/usr/local/lib/python3.11/dist-packages/sklearn/linear_model/_sag.py:348: ConvergenceWarning: The max_iter was reached which means the coef_ did not converge\n",
            "  warnings.warn(\n",
            "/usr/local/lib/python3.11/dist-packages/sklearn/linear_model/_sag.py:348: ConvergenceWarning: The max_iter was reached which means the coef_ did not converge\n",
            "  warnings.warn(\n",
            "/usr/local/lib/python3.11/dist-packages/sklearn/linear_model/_sag.py:348: ConvergenceWarning: The max_iter was reached which means the coef_ did not converge\n",
            "  warnings.warn(\n",
            "/usr/local/lib/python3.11/dist-packages/sklearn/linear_model/_sag.py:348: ConvergenceWarning: The max_iter was reached which means the coef_ did not converge\n",
            "  warnings.warn(\n",
            "/usr/local/lib/python3.11/dist-packages/sklearn/linear_model/_sag.py:348: ConvergenceWarning: The max_iter was reached which means the coef_ did not converge\n",
            "  warnings.warn(\n",
            "/usr/local/lib/python3.11/dist-packages/sklearn/linear_model/_sag.py:348: ConvergenceWarning: The max_iter was reached which means the coef_ did not converge\n",
            "  warnings.warn(\n",
            "/usr/local/lib/python3.11/dist-packages/sklearn/linear_model/_sag.py:348: ConvergenceWarning: The max_iter was reached which means the coef_ did not converge\n",
            "  warnings.warn(\n",
            "/usr/local/lib/python3.11/dist-packages/sklearn/linear_model/_sag.py:348: ConvergenceWarning: The max_iter was reached which means the coef_ did not converge\n",
            "  warnings.warn(\n",
            "/usr/local/lib/python3.11/dist-packages/sklearn/linear_model/_sag.py:348: ConvergenceWarning: The max_iter was reached which means the coef_ did not converge\n",
            "  warnings.warn(\n",
            "/usr/local/lib/python3.11/dist-packages/sklearn/linear_model/_sag.py:348: ConvergenceWarning: The max_iter was reached which means the coef_ did not converge\n",
            "  warnings.warn(\n"
          ]
        },
        {
          "output_type": "stream",
          "name": "stdout",
          "text": [
            "1/alpha =  [10.24]\n",
            "coef =  [[ 0.   -0.2   0.   -0.19 -0.53  0.   -0.16 -0.03  0.05 -0.16 -0.14 -0.01\n",
            "  -0.33  0.   -0.02  0.    0.    0.    0.8   0.53 -0.04  0.15  0.    0.\n",
            "   0.   -0.04  1.04  0.75 -0.01  0.25  0.    0.    0.    0.01  0.26  0.04\n",
            "   0.33  0.   -0.32  0.    0.    0.    1.25  1.01  0.    0.    0.    0.\n",
            "   0.    0.    0.27  0.08 -0.34 -0.51 -0.78  0.    0.   -0.02 -0.5  -0.01\n",
            "   0.    0.   -0.08  0.  ]]\n",
            "accuracy =  1.0\n"
          ]
        },
        {
          "output_type": "stream",
          "name": "stderr",
          "text": [
            "/usr/local/lib/python3.11/dist-packages/sklearn/linear_model/_sag.py:348: ConvergenceWarning: The max_iter was reached which means the coef_ did not converge\n",
            "  warnings.warn(\n"
          ]
        },
        {
          "output_type": "display_data",
          "data": {
            "text/plain": [
              "<Figure size 1000x800 with 1 Axes>"
            ],
            "image/png": "[encoded data removed]"
          },
          "metadata": {}
        }
      ]
    },
    {
      "cell_type": "code",
      "execution_count": null,
      "metadata": {
        "colab": {
          "base_uri": "https://localhost:8080/"
        },
        "id": "3p-CEfzr3FAQ",
        "outputId": "f8cd102a-3fb6-40c9-d0e8-1dfed6baf0af"
      },
      "outputs": [
        {
          "output_type": "stream",
          "name": "stdout",
          "text": [
            "p(0), p(1), actual = \n",
            " [[0.14 0.86 8.  ]\n",
            " [0.95 0.05 3.  ]\n",
            " [0.87 0.13 3.  ]\n",
            " [0.31 0.69 8.  ]\n",
            " [0.65 0.35 3.  ]\n",
            " [0.35 0.65 8.  ]\n",
            " [0.82 0.18 3.  ]\n",
            " [0.87 0.13 3.  ]\n",
            " [0.94 0.06 3.  ]\n",
            " [0.94 0.06 3.  ]]\n"
          ]
        }
      ],
      "source": [
        "# TODO: predict the class probabilities for the testing dataset using L1 model\n",
        "#       and show them along the actual test classes\n",
        "\n",
        "# suppress the scientific notation for small floats and use only 2 digits of precision\n",
        "np.set_printoptions(precision=2,suppress=True)\n",
        "\n",
        "print('p(0), p(1), actual = \\n', np.hstack([clf_L2.predict_proba(X_test_scaled), y_test.reshape(-1,1)])[:10,:])"
      ]
    },
    {
      "cell_type": "code",
      "execution_count": null,
      "metadata": {
        "id": "tpFet24s3FAQ"
      },
      "outputs": [],
      "source": []
    },
    {
      "cell_type": "markdown",
      "source": [
        "#In essence:\n",
        "\n",
        "**L1 penalty** (Lasso) encourages sparsity in the model coefficients, meaning it tends to set some coefficients to zero. This can be useful for feature selection and improving model interpretability. It uses the 'saga' solver.\n",
        "\n",
        "**L2 penalty**(Ridge) shrinks the coefficients towards zero but does not set them exactly to zero. It helps to prevent overfitting and improves generalization. It uses the 'lbfgs' solver."
      ],
      "metadata": {
        "id": "1BuQLO_r4xuK"
      }
    }
  ],
  "metadata": {
    "kernelspec": {
      "display_name": "Python 3",
      "language": "python",
      "name": "python3"
    },
    "language_info": {
      "codemirror_mode": {
        "name": "ipython",
        "version": 3
      },
      "file_extension": ".py",
      "mimetype": "text/x-python",
      "name": "python",
      "nbconvert_exporter": "python",
      "pygments_lexer": "ipython3",
      "version": "3.7.3"
    },
    "colab": {
      "provenance": [],
      "include_colab_link": true
    }
  },
  "nbformat": 4,
  "nbformat_minor": 0
}